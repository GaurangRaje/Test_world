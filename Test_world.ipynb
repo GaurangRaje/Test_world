{
  "nbformat": 4,
  "nbformat_minor": 0,
  "metadata": {
    "colab": {
      "name": "Test world.ipynb",
      "provenance": [],
      "authorship_tag": "ABX9TyOzGKVKCB/NEAzauuQzzWNb",
      "include_colab_link": true
    },
    "kernelspec": {
      "name": "python3",
      "display_name": "Python 3"
    }
  },
  "cells": [
    {
      "cell_type": "markdown",
      "metadata": {
        "id": "view-in-github",
        "colab_type": "text"
      },
      "source": [
        "<a href=\"https://colab.research.google.com/github/Gnaruag/Test_world/blob/master/Test_world.ipynb\" target=\"_parent\"><img src=\"https://colab.research.google.com/assets/colab-badge.svg\" alt=\"Open In Colab\"/></a>"
      ]
    },
    {
      "cell_type": "markdown",
      "metadata": {
        "id": "beKmk5l2HPvF",
        "colab_type": "text"
      },
      "source": [
        "# Importing the libraries"
      ]
    },
    {
      "cell_type": "code",
      "metadata": {
        "id": "7jiTj3a_HBOb",
        "colab_type": "code",
        "colab": {
          "base_uri": "https://localhost:8080/",
          "height": 292
        },
        "outputId": "a3c53242-a894-484e-9e5b-19dd2599e15a"
      },
      "source": [
        "!pip install alpha_vantage\n",
        "!pip install colab-env -qU\n",
        "import colab_env\n",
        "import time\n",
        "program_start = time.time()\n",
        "import matplotlib.pyplot as plt\n",
        "import numpy as np\n",
        "import pandas as pd\n",
        "from alpha_vantage.timeseries import TimeSeries\n",
        "import pandas_datareader as pdr"
      ],
      "execution_count": null,
      "outputs": [
        {
          "output_type": "stream",
          "text": [
            "fatal: not a git repository (or any of the parent directories): .git\n",
            "fatal: not a git repository (or any of the parent directories): .git\n",
            "Requirement already satisfied: alpha_vantage in /usr/local/lib/python3.6/dist-packages (2.2.0)\n",
            "Requirement already satisfied: aiohttp in /usr/local/lib/python3.6/dist-packages (from alpha_vantage) (3.6.2)\n",
            "Requirement already satisfied: requests in /usr/local/lib/python3.6/dist-packages (from alpha_vantage) (2.23.0)\n",
            "Requirement already satisfied: attrs>=17.3.0 in /usr/local/lib/python3.6/dist-packages (from aiohttp->alpha_vantage) (19.3.0)\n",
            "Requirement already satisfied: multidict<5.0,>=4.5 in /usr/local/lib/python3.6/dist-packages (from aiohttp->alpha_vantage) (4.7.6)\n",
            "Requirement already satisfied: yarl<2.0,>=1.0 in /usr/local/lib/python3.6/dist-packages (from aiohttp->alpha_vantage) (1.4.2)\n",
            "Requirement already satisfied: chardet<4.0,>=2.0 in /usr/local/lib/python3.6/dist-packages (from aiohttp->alpha_vantage) (3.0.4)\n",
            "Requirement already satisfied: typing-extensions>=3.6.5; python_version < \"3.7\" in /usr/local/lib/python3.6/dist-packages (from aiohttp->alpha_vantage) (3.7.4.2)\n",
            "Requirement already satisfied: idna-ssl>=1.0; python_version < \"3.7\" in /usr/local/lib/python3.6/dist-packages (from aiohttp->alpha_vantage) (1.1.0)\n",
            "Requirement already satisfied: async-timeout<4.0,>=3.0 in /usr/local/lib/python3.6/dist-packages (from aiohttp->alpha_vantage) (3.0.1)\n",
            "Requirement already satisfied: idna<3,>=2.5 in /usr/local/lib/python3.6/dist-packages (from requests->alpha_vantage) (2.10)\n",
            "Requirement already satisfied: urllib3!=1.25.0,!=1.25.1,<1.26,>=1.21.1 in /usr/local/lib/python3.6/dist-packages (from requests->alpha_vantage) (1.24.3)\n",
            "Requirement already satisfied: certifi>=2017.4.17 in /usr/local/lib/python3.6/dist-packages (from requests->alpha_vantage) (2020.6.20)\n"
          ],
          "name": "stdout"
        }
      ]
    },
    {
      "cell_type": "markdown",
      "metadata": {
        "id": "6vJglBdQHw2_",
        "colab_type": "text"
      },
      "source": [
        "# Stock ticker"
      ]
    },
    {
      "cell_type": "code",
      "metadata": {
        "id": "2ALIcZJaIu9-",
        "colab_type": "code",
        "colab": {}
      },
      "source": [
        "ticker = 'TSLA'"
      ],
      "execution_count": null,
      "outputs": []
    },
    {
      "cell_type": "markdown",
      "metadata": {
        "id": "t7ydT1u8IxaY",
        "colab_type": "text"
      },
      "source": [
        "# Importing dataset"
      ]
    },
    {
      "cell_type": "markdown",
      "metadata": {
        "id": "u1wkBY5oX_oi",
        "colab_type": "text"
      },
      "source": [
        "## Importing alpha vantage dataset"
      ]
    },
    {
      "cell_type": "code",
      "metadata": {
        "id": "G3lHFRHtI01U",
        "colab_type": "code",
        "colab": {
          "base_uri": "https://localhost:8080/",
          "height": 235
        },
        "outputId": "471c2520-fcf2-46a9-e8fc-cff861d83c67"
      },
      "source": [
        "ts = TimeSeries(key=av_key, output_format = 'pandas')\n",
        "df, meta_data = ts.get_intraday(symbol=ticker, interval='1min', outputsize='full')\n",
        "df.head()"
      ],
      "execution_count": null,
      "outputs": [
        {
          "output_type": "execute_result",
          "data": {
            "text/html": [
              "<div>\n",
              "<style scoped>\n",
              "    .dataframe tbody tr th:only-of-type {\n",
              "        vertical-align: middle;\n",
              "    }\n",
              "\n",
              "    .dataframe tbody tr th {\n",
              "        vertical-align: top;\n",
              "    }\n",
              "\n",
              "    .dataframe thead th {\n",
              "        text-align: right;\n",
              "    }\n",
              "</style>\n",
              "<table border=\"1\" class=\"dataframe\">\n",
              "  <thead>\n",
              "    <tr style=\"text-align: right;\">\n",
              "      <th></th>\n",
              "      <th>1. open</th>\n",
              "      <th>2. high</th>\n",
              "      <th>3. low</th>\n",
              "      <th>4. close</th>\n",
              "      <th>5. volume</th>\n",
              "    </tr>\n",
              "    <tr>\n",
              "      <th>date</th>\n",
              "      <th></th>\n",
              "      <th></th>\n",
              "      <th></th>\n",
              "      <th></th>\n",
              "      <th></th>\n",
              "    </tr>\n",
              "  </thead>\n",
              "  <tbody>\n",
              "    <tr>\n",
              "      <th>2020-07-24 20:00:00</th>\n",
              "      <td>1404.0</td>\n",
              "      <td>1404.00</td>\n",
              "      <td>1401.14</td>\n",
              "      <td>1402.00</td>\n",
              "      <td>3148.0</td>\n",
              "    </tr>\n",
              "    <tr>\n",
              "      <th>2020-07-24 19:59:00</th>\n",
              "      <td>1403.9</td>\n",
              "      <td>1403.90</td>\n",
              "      <td>1403.90</td>\n",
              "      <td>1403.90</td>\n",
              "      <td>964.0</td>\n",
              "    </tr>\n",
              "    <tr>\n",
              "      <th>2020-07-24 19:58:00</th>\n",
              "      <td>1404.0</td>\n",
              "      <td>1404.39</td>\n",
              "      <td>1403.99</td>\n",
              "      <td>1403.99</td>\n",
              "      <td>1966.0</td>\n",
              "    </tr>\n",
              "    <tr>\n",
              "      <th>2020-07-24 19:57:00</th>\n",
              "      <td>1406.0</td>\n",
              "      <td>1406.00</td>\n",
              "      <td>1406.00</td>\n",
              "      <td>1406.00</td>\n",
              "      <td>446.0</td>\n",
              "    </tr>\n",
              "    <tr>\n",
              "      <th>2020-07-24 19:55:00</th>\n",
              "      <td>1404.0</td>\n",
              "      <td>1404.00</td>\n",
              "      <td>1404.00</td>\n",
              "      <td>1404.00</td>\n",
              "      <td>352.0</td>\n",
              "    </tr>\n",
              "  </tbody>\n",
              "</table>\n",
              "</div>"
            ],
            "text/plain": [
              "                     1. open  2. high   3. low  4. close  5. volume\n",
              "date                                                               \n",
              "2020-07-24 20:00:00   1404.0  1404.00  1401.14   1402.00     3148.0\n",
              "2020-07-24 19:59:00   1403.9  1403.90  1403.90   1403.90      964.0\n",
              "2020-07-24 19:58:00   1404.0  1404.39  1403.99   1403.99     1966.0\n",
              "2020-07-24 19:57:00   1406.0  1406.00  1406.00   1406.00      446.0\n",
              "2020-07-24 19:55:00   1404.0  1404.00  1404.00   1404.00      352.0"
            ]
          },
          "metadata": {
            "tags": []
          },
          "execution_count": 56
        }
      ]
    },
    {
      "cell_type": "markdown",
      "metadata": {
        "id": "Gs-ZmUthYHYb",
        "colab_type": "text"
      },
      "source": [
        "## Importing tiingo dataset"
      ]
    },
    {
      "cell_type": "code",
      "metadata": {
        "id": "mNdrc25dU6-T",
        "colab_type": "code",
        "colab": {
          "base_uri": "https://localhost:8080/",
          "height": 235
        },
        "outputId": "4f8ab44e-4337-4eb4-d2d2-86a66ebb8b47"
      },
      "source": [
        "df2 = pdr.get_data_tiingo(ticker, api_key=tgo_key)\n",
        "df2.head()"
      ],
      "execution_count": null,
      "outputs": [
        {
          "output_type": "execute_result",
          "data": {
            "text/html": [
              "<div>\n",
              "<style scoped>\n",
              "    .dataframe tbody tr th:only-of-type {\n",
              "        vertical-align: middle;\n",
              "    }\n",
              "\n",
              "    .dataframe tbody tr th {\n",
              "        vertical-align: top;\n",
              "    }\n",
              "\n",
              "    .dataframe thead th {\n",
              "        text-align: right;\n",
              "    }\n",
              "</style>\n",
              "<table border=\"1\" class=\"dataframe\">\n",
              "  <thead>\n",
              "    <tr style=\"text-align: right;\">\n",
              "      <th></th>\n",
              "      <th></th>\n",
              "      <th>close</th>\n",
              "      <th>high</th>\n",
              "      <th>low</th>\n",
              "      <th>open</th>\n",
              "      <th>volume</th>\n",
              "      <th>adjClose</th>\n",
              "      <th>adjHigh</th>\n",
              "      <th>adjLow</th>\n",
              "      <th>adjOpen</th>\n",
              "      <th>adjVolume</th>\n",
              "      <th>divCash</th>\n",
              "      <th>splitFactor</th>\n",
              "    </tr>\n",
              "    <tr>\n",
              "      <th>symbol</th>\n",
              "      <th>date</th>\n",
              "      <th></th>\n",
              "      <th></th>\n",
              "      <th></th>\n",
              "      <th></th>\n",
              "      <th></th>\n",
              "      <th></th>\n",
              "      <th></th>\n",
              "      <th></th>\n",
              "      <th></th>\n",
              "      <th></th>\n",
              "      <th></th>\n",
              "      <th></th>\n",
              "    </tr>\n",
              "  </thead>\n",
              "  <tbody>\n",
              "    <tr>\n",
              "      <th rowspan=\"5\" valign=\"top\">TSLA</th>\n",
              "      <th>2015-07-27 00:00:00+00:00</th>\n",
              "      <td>253.01</td>\n",
              "      <td>264.4321</td>\n",
              "      <td>250.7900</td>\n",
              "      <td>262.43</td>\n",
              "      <td>4694192</td>\n",
              "      <td>253.01</td>\n",
              "      <td>264.4321</td>\n",
              "      <td>250.7900</td>\n",
              "      <td>262.43</td>\n",
              "      <td>4694192</td>\n",
              "      <td>0.0</td>\n",
              "      <td>1.0</td>\n",
              "    </tr>\n",
              "    <tr>\n",
              "      <th>2015-07-28 00:00:00+00:00</th>\n",
              "      <td>264.82</td>\n",
              "      <td>265.4000</td>\n",
              "      <td>251.8373</td>\n",
              "      <td>255.75</td>\n",
              "      <td>3895808</td>\n",
              "      <td>264.82</td>\n",
              "      <td>265.4000</td>\n",
              "      <td>251.8373</td>\n",
              "      <td>255.75</td>\n",
              "      <td>3895808</td>\n",
              "      <td>0.0</td>\n",
              "      <td>1.0</td>\n",
              "    </tr>\n",
              "    <tr>\n",
              "      <th>2015-07-29 00:00:00+00:00</th>\n",
              "      <td>263.82</td>\n",
              "      <td>267.8900</td>\n",
              "      <td>262.0000</td>\n",
              "      <td>264.27</td>\n",
              "      <td>2790095</td>\n",
              "      <td>263.82</td>\n",
              "      <td>267.8900</td>\n",
              "      <td>262.0000</td>\n",
              "      <td>264.27</td>\n",
              "      <td>2790095</td>\n",
              "      <td>0.0</td>\n",
              "      <td>1.0</td>\n",
              "    </tr>\n",
              "    <tr>\n",
              "      <th>2015-07-30 00:00:00+00:00</th>\n",
              "      <td>266.79</td>\n",
              "      <td>266.9400</td>\n",
              "      <td>262.1100</td>\n",
              "      <td>262.69</td>\n",
              "      <td>2034560</td>\n",
              "      <td>266.79</td>\n",
              "      <td>266.9400</td>\n",
              "      <td>262.1100</td>\n",
              "      <td>262.69</td>\n",
              "      <td>2034560</td>\n",
              "      <td>0.0</td>\n",
              "      <td>1.0</td>\n",
              "    </tr>\n",
              "    <tr>\n",
              "      <th>2015-07-31 00:00:00+00:00</th>\n",
              "      <td>266.15</td>\n",
              "      <td>269.3599</td>\n",
              "      <td>265.1230</td>\n",
              "      <td>267.60</td>\n",
              "      <td>2222552</td>\n",
              "      <td>266.15</td>\n",
              "      <td>269.3599</td>\n",
              "      <td>265.1230</td>\n",
              "      <td>267.60</td>\n",
              "      <td>2222552</td>\n",
              "      <td>0.0</td>\n",
              "      <td>1.0</td>\n",
              "    </tr>\n",
              "  </tbody>\n",
              "</table>\n",
              "</div>"
            ],
            "text/plain": [
              "                                   close      high  ...  divCash  splitFactor\n",
              "symbol date                                         ...                      \n",
              "TSLA   2015-07-27 00:00:00+00:00  253.01  264.4321  ...      0.0          1.0\n",
              "       2015-07-28 00:00:00+00:00  264.82  265.4000  ...      0.0          1.0\n",
              "       2015-07-29 00:00:00+00:00  263.82  267.8900  ...      0.0          1.0\n",
              "       2015-07-30 00:00:00+00:00  266.79  266.9400  ...      0.0          1.0\n",
              "       2015-07-31 00:00:00+00:00  266.15  269.3599  ...      0.0          1.0\n",
              "\n",
              "[5 rows x 12 columns]"
            ]
          },
          "metadata": {
            "tags": []
          },
          "execution_count": 57
        }
      ]
    },
    {
      "cell_type": "code",
      "metadata": {
        "id": "b_tyeFl7Ye_-",
        "colab_type": "code",
        "colab": {}
      },
      "source": [
        ""
      ],
      "execution_count": null,
      "outputs": []
    }
  ]
}